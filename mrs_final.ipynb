{
  "cells": [
    {
      "cell_type": "markdown",
      "source": [
        "# **Movie Recommendation System**"
      ],
      "metadata": {
        "id": "VEN4_jMujo4T"
      },
      "id": "VEN4_jMujo4T"
    },
    {
      "cell_type": "code",
      "execution_count": 3,
      "id": "c89ae598-8779-4c0a-a0cc-f18df7365aa3",
      "metadata": {
        "id": "c89ae598-8779-4c0a-a0cc-f18df7365aa3"
      },
      "outputs": [],
      "source": [
        "import pandas as pd\n",
        "import numpy as np"
      ]
    },
    {
      "cell_type": "code",
      "execution_count": 8,
      "id": "92b4be74-7e49-4162-ba7a-f963de84ba89",
      "metadata": {
        "id": "92b4be74-7e49-4162-ba7a-f963de84ba89"
      },
      "outputs": [],
      "source": [
        "movies=pd.read_csv('tmdb_5000_movies.csv')\n",
        "credits=pd.read_csv('tmdb_5000_credits.csv')"
      ]
    },
    {
      "cell_type": "code",
      "execution_count": 9,
      "id": "dd764ee4-d04a-499a-a952-0bcc1b45df51",
      "metadata": {
        "colab": {
          "base_uri": "https://localhost:8080/"
        },
        "id": "dd764ee4-d04a-499a-a952-0bcc1b45df51",
        "outputId": "76ca507b-b8ae-4bda-a6c8-9e803a3fbd30"
      },
      "outputs": [
        {
          "output_type": "stream",
          "name": "stdout",
          "text": [
            "<class 'pandas.core.frame.DataFrame'>\n",
            "RangeIndex: 4809 entries, 0 to 4808\n",
            "Data columns (total 23 columns):\n",
            " #   Column                Non-Null Count  Dtype  \n",
            "---  ------                --------------  -----  \n",
            " 0   budget                4809 non-null   int64  \n",
            " 1   genres                4809 non-null   object \n",
            " 2   homepage              1713 non-null   object \n",
            " 3   id                    4809 non-null   int64  \n",
            " 4   keywords              4809 non-null   object \n",
            " 5   original_language     4809 non-null   object \n",
            " 6   original_title        4809 non-null   object \n",
            " 7   overview              4806 non-null   object \n",
            " 8   popularity            4809 non-null   float64\n",
            " 9   production_companies  4809 non-null   object \n",
            " 10  production_countries  4809 non-null   object \n",
            " 11  release_date          4808 non-null   object \n",
            " 12  revenue               4809 non-null   int64  \n",
            " 13  runtime               4807 non-null   float64\n",
            " 14  spoken_languages      4809 non-null   object \n",
            " 15  status                4809 non-null   object \n",
            " 16  tagline               3965 non-null   object \n",
            " 17  title                 4809 non-null   object \n",
            " 18  vote_average          4809 non-null   float64\n",
            " 19  vote_count            4809 non-null   int64  \n",
            " 20  movie_id              4809 non-null   int64  \n",
            " 21  cast                  4809 non-null   object \n",
            " 22  crew                  4809 non-null   object \n",
            "dtypes: float64(3), int64(5), object(15)\n",
            "memory usage: 864.2+ KB\n"
          ]
        }
      ],
      "source": [
        "movies=movies.merge(credits,on='title')\n",
        "movies.info()"
      ]
    },
    {
      "cell_type": "code",
      "execution_count": 17,
      "id": "197400a2-586d-4a42-bb10-242ee8c3a538",
      "metadata": {
        "colab": {
          "base_uri": "https://localhost:8080/"
        },
        "id": "197400a2-586d-4a42-bb10-242ee8c3a538",
        "outputId": "7f25dca5-90dc-46e5-daf9-cbe39c3e1bd3"
      },
      "outputs": [
        {
          "output_type": "stream",
          "name": "stdout",
          "text": [
            "<class 'pandas.core.frame.DataFrame'>\n",
            "Index: 4806 entries, 0 to 4808\n",
            "Data columns (total 7 columns):\n",
            " #   Column    Non-Null Count  Dtype \n",
            "---  ------    --------------  ----- \n",
            " 0   movie_id  4806 non-null   int64 \n",
            " 1   title     4806 non-null   object\n",
            " 2   overview  4806 non-null   object\n",
            " 3   genres    4806 non-null   object\n",
            " 4   keywords  4806 non-null   object\n",
            " 5   cast      4806 non-null   object\n",
            " 6   crew      4806 non-null   object\n",
            "dtypes: int64(1), object(6)\n",
            "memory usage: 300.4+ KB\n"
          ]
        },
        {
          "output_type": "execute_result",
          "data": {
            "text/plain": [
              "(4806, 7)"
            ]
          },
          "metadata": {},
          "execution_count": 17
        }
      ],
      "source": [
        "movies=movies[['movie_id','title','overview','genres','keywords','cast','crew']]\n",
        "movies.info()\n",
        "movies.shape"
      ]
    },
    {
      "cell_type": "markdown",
      "source": [
        "### **Data Cleaning**"
      ],
      "metadata": {
        "id": "glSY1aPThNRX"
      },
      "id": "glSY1aPThNRX"
    },
    {
      "cell_type": "code",
      "execution_count": 11,
      "id": "81cfc8f6-0150-4030-8bd5-5f6eb3625c61",
      "metadata": {
        "colab": {
          "base_uri": "https://localhost:8080/"
        },
        "id": "81cfc8f6-0150-4030-8bd5-5f6eb3625c61",
        "outputId": "c0aaf882-a11e-4605-c72c-25543b852c5a"
      },
      "outputs": [
        {
          "output_type": "execute_result",
          "data": {
            "text/plain": [
              "0"
            ]
          },
          "metadata": {},
          "execution_count": 11
        }
      ],
      "source": [
        "movies.isnull().sum()\n",
        "movies.dropna(inplace=True)\n",
        "movies.drop_duplicates(inplace=True)\n",
        "movies.duplicated().sum()"
      ]
    },
    {
      "cell_type": "markdown",
      "source": [
        "### **converting feature's dictionary form into list form**"
      ],
      "metadata": {
        "id": "OaX0rB4Bhk89"
      },
      "id": "OaX0rB4Bhk89"
    },
    {
      "cell_type": "code",
      "execution_count": 13,
      "id": "edf31da4-abf5-4669-a9f8-27ad3ef8e654",
      "metadata": {
        "colab": {
          "base_uri": "https://localhost:8080/"
        },
        "id": "edf31da4-abf5-4669-a9f8-27ad3ef8e654",
        "outputId": "8fc2dd87-d67a-4791-8e55-2335835b1bf7"
      },
      "outputs": [
        {
          "output_type": "execute_result",
          "data": {
            "text/plain": [
              "[{'id': 28, 'name': 'Action'},\n",
              " {'id': 12, 'name': 'Adventure'},\n",
              " {'id': 14, 'name': 'Fantasy'},\n",
              " {'id': 878, 'name': 'Science Fiction'}]"
            ]
          },
          "metadata": {},
          "execution_count": 13
        }
      ],
      "source": [
        "import ast"
      ]
    },
    {
      "cell_type": "code",
      "execution_count": 14,
      "id": "5ea4ed7b-4f14-41d8-879a-c29d32a1604b",
      "metadata": {
        "id": "5ea4ed7b-4f14-41d8-879a-c29d32a1604b"
      },
      "outputs": [],
      "source": [
        "#function used to convert ['genres'] attribut's dictionary form into list form\n",
        "#for that we have used ast library\n",
        "def convert(obj):\n",
        "    L=[]\n",
        "    for i in ast.literal_eval(obj):\n",
        "        L.append(i['name'])\n",
        "    return L"
      ]
    },
    {
      "cell_type": "code",
      "execution_count": 15,
      "id": "bfd19670-6c52-4f50-8b11-a1d5bb8cd3d0",
      "metadata": {
        "id": "bfd19670-6c52-4f50-8b11-a1d5bb8cd3d0"
      },
      "outputs": [],
      "source": [
        "movies['genres']=movies['genres'].apply(convert)"
      ]
    },
    {
      "cell_type": "code",
      "execution_count": 18,
      "id": "4cd7904e-be02-421a-be84-afa9d436d9a1",
      "metadata": {
        "id": "4cd7904e-be02-421a-be84-afa9d436d9a1"
      },
      "outputs": [],
      "source": [
        "movies['keywords']=movies['keywords'].apply(convert)"
      ]
    },
    {
      "cell_type": "code",
      "execution_count": 19,
      "id": "1cd832fd-3128-40ee-8724-c6795567dbee",
      "metadata": {
        "id": "1cd832fd-3128-40ee-8724-c6795567dbee"
      },
      "outputs": [],
      "source": [
        "#we are only focusing on top 3 cast of the movie.\n",
        "def convert_cast(obj):\n",
        "    L=[]\n",
        "    counter=0\n",
        "    for i in ast.literal_eval(obj):\n",
        "        if counter!=3:\n",
        "            L.append(i['name'])\n",
        "            counter+=1\n",
        "        else:\n",
        "            break\n",
        "    return L"
      ]
    },
    {
      "cell_type": "code",
      "execution_count": 20,
      "id": "67fde1c3-c898-4818-9685-3ef08f1f8f7c",
      "metadata": {
        "id": "67fde1c3-c898-4818-9685-3ef08f1f8f7c"
      },
      "outputs": [],
      "source": [
        "movies['cast']=movies['cast'].apply(convert_cast)"
      ]
    },
    {
      "cell_type": "code",
      "execution_count": 22,
      "id": "b519375c-357d-4b09-a4ea-af40f0418e63",
      "metadata": {
        "id": "b519375c-357d-4b09-a4ea-af40f0418e63"
      },
      "outputs": [],
      "source": [
        "#we are only fetching director's name amongest this big crew team\n",
        "def convert_crew(obj):\n",
        "    L=[]\n",
        "    for i in ast.literal_eval(obj):\n",
        "        if i['job']=='Director':\n",
        "            L.append(i['name'])\n",
        "            break\n",
        "    return L"
      ]
    },
    {
      "cell_type": "code",
      "execution_count": 23,
      "id": "c2665a02-6057-4ca9-a757-9367b82aa757",
      "metadata": {
        "id": "c2665a02-6057-4ca9-a757-9367b82aa757"
      },
      "outputs": [],
      "source": [
        "movies['crew']=movies['crew'].apply(convert_crew)"
      ]
    },
    {
      "cell_type": "code",
      "execution_count": 24,
      "id": "d8d994b1-1f79-4304-9077-53b59e962cbc",
      "metadata": {
        "id": "d8d994b1-1f79-4304-9077-53b59e962cbc"
      },
      "outputs": [],
      "source": [
        "#converting overview - string to list\n",
        "\n",
        "movies['overview']=movies['overview'].apply(lambda x:x.split())"
      ]
    },
    {
      "cell_type": "code",
      "execution_count": 25,
      "id": "0fd41759-71eb-40b1-8fe9-6ea8b548f6c7",
      "metadata": {
        "id": "0fd41759-71eb-40b1-8fe9-6ea8b548f6c7"
      },
      "outputs": [],
      "source": [
        "#removing \" \" in each name for model's better performance\n",
        "# i.e Sam Worthington, Sam Mendes\n",
        "\n",
        "movies['genres']=movies['genres'].apply(lambda x:[i.replace(\" \",\"\") for i in x])\n",
        "movies['keywords']=movies['keywords'].apply(lambda x:[i.replace(\" \",\"\") for i in x])\n",
        "movies['cast']=movies['cast'].apply(lambda x:[i.replace(\" \",\"\") for i in x])\n",
        "movies['crew']=movies['crew'].apply(lambda x:[i.replace(\" \",\"\") for i in x])"
      ]
    },
    {
      "cell_type": "code",
      "execution_count": 26,
      "id": "42d1ad11-ffb1-44ca-9aa3-c1e6d410dbd2",
      "metadata": {
        "id": "42d1ad11-ffb1-44ca-9aa3-c1e6d410dbd2"
      },
      "outputs": [],
      "source": [
        "#as our expected format we will concatinate attributes to 'tags' attribute\n",
        "movies['tags']=movies['overview']+movies['genres']+movies['keywords']+movies['cast']+movies['crew']"
      ]
    },
    {
      "cell_type": "code",
      "execution_count": 27,
      "id": "034d6596-5632-4eee-9483-aa32276b651e",
      "metadata": {
        "id": "034d6596-5632-4eee-9483-aa32276b651e"
      },
      "outputs": [],
      "source": [
        "new_df=movies[['movie_id','title','tags']]"
      ]
    },
    {
      "cell_type": "code",
      "execution_count": 30,
      "id": "1a4516bf-f5ea-412b-a006-d459c90f6acc",
      "metadata": {
        "colab": {
          "base_uri": "https://localhost:8080/"
        },
        "id": "1a4516bf-f5ea-412b-a006-d459c90f6acc",
        "outputId": "bd3d6b31-ea3b-4c14-86a8-ee2892a573ff"
      },
      "outputs": [
        {
          "output_type": "stream",
          "name": "stderr",
          "text": [
            "<ipython-input-30-53a061086f2e>:1: SettingWithCopyWarning: \n",
            "A value is trying to be set on a copy of a slice from a DataFrame.\n",
            "Try using .loc[row_indexer,col_indexer] = value instead\n",
            "\n",
            "See the caveats in the documentation: https://pandas.pydata.org/pandas-docs/stable/user_guide/indexing.html#returning-a-view-versus-a-copy\n",
            "  new_df['tags']=new_df['tags'].apply(lambda x:\" \".join(x))\n"
          ]
        }
      ],
      "source": [
        "new_df['tags']=new_df['tags'].apply(lambda x:\" \".join(x))"
      ]
    },
    {
      "cell_type": "code",
      "execution_count": 31,
      "id": "e7692d4c-54ff-4f69-a6f3-74069d7ece1b",
      "metadata": {
        "colab": {
          "base_uri": "https://localhost:8080/"
        },
        "id": "e7692d4c-54ff-4f69-a6f3-74069d7ece1b",
        "outputId": "376d0e57-d392-466d-a916-632d5f43134a"
      },
      "outputs": [
        {
          "output_type": "stream",
          "name": "stderr",
          "text": [
            "<ipython-input-31-2c158192cea3>:2: SettingWithCopyWarning: \n",
            "A value is trying to be set on a copy of a slice from a DataFrame.\n",
            "Try using .loc[row_indexer,col_indexer] = value instead\n",
            "\n",
            "See the caveats in the documentation: https://pandas.pydata.org/pandas-docs/stable/user_guide/indexing.html#returning-a-view-versus-a-copy\n",
            "  new_df['tags']=new_df['tags'].apply(lambda x:x.lower())\n"
          ]
        }
      ],
      "source": [
        "#converting all tags into lower case\n",
        "new_df['tags']=new_df['tags'].apply(lambda x:x.lower())"
      ]
    },
    {
      "cell_type": "code",
      "execution_count": 32,
      "id": "1143feaa-3bd9-4158-884e-f57bc9080b5f",
      "metadata": {
        "colab": {
          "base_uri": "https://localhost:8080/"
        },
        "id": "1143feaa-3bd9-4158-884e-f57bc9080b5f",
        "outputId": "3f42670e-a2bc-4334-994e-dff2b3c47cbd"
      },
      "outputs": [
        {
          "output_type": "stream",
          "name": "stdout",
          "text": [
            "Requirement already satisfied: nltk in /usr/local/lib/python3.11/dist-packages (3.9.1)\n",
            "Requirement already satisfied: click in /usr/local/lib/python3.11/dist-packages (from nltk) (8.1.8)\n",
            "Requirement already satisfied: joblib in /usr/local/lib/python3.11/dist-packages (from nltk) (1.4.2)\n",
            "Requirement already satisfied: regex>=2021.8.3 in /usr/local/lib/python3.11/dist-packages (from nltk) (2024.11.6)\n",
            "Requirement already satisfied: tqdm in /usr/local/lib/python3.11/dist-packages (from nltk) (4.67.1)\n"
          ]
        }
      ],
      "source": [
        " !pip install nltk"
      ]
    },
    {
      "cell_type": "markdown",
      "source": [
        "### **Perfoming Stemming**"
      ],
      "metadata": {
        "id": "Ed2ZModxiNN-"
      },
      "id": "Ed2ZModxiNN-"
    },
    {
      "cell_type": "code",
      "execution_count": 33,
      "id": "d869c924-3877-46ee-ade5-a6e84a9087ff",
      "metadata": {
        "id": "d869c924-3877-46ee-ade5-a6e84a9087ff"
      },
      "outputs": [],
      "source": [
        "import nltk\n",
        "from nltk.stem.porter import PorterStemmer\n",
        "ps=PorterStemmer()"
      ]
    },
    {
      "cell_type": "code",
      "execution_count": 34,
      "id": "f7998d86-53bf-4291-addb-88ca89cba050",
      "metadata": {
        "id": "f7998d86-53bf-4291-addb-88ca89cba050"
      },
      "outputs": [],
      "source": [
        "def stem(text):\n",
        "    y=[]\n",
        "    for i in text.split():\n",
        "        y.append(ps.stem(i))\n",
        "    return \" \".join(y)\n"
      ]
    },
    {
      "cell_type": "code",
      "execution_count": 35,
      "id": "2088e2b2-7976-49bc-8bd3-74a6f4ac5c70",
      "metadata": {
        "id": "2088e2b2-7976-49bc-8bd3-74a6f4ac5c70",
        "colab": {
          "base_uri": "https://localhost:8080/"
        },
        "outputId": "95072e3d-0f4b-4ad7-a225-3629c18f5045"
      },
      "outputs": [
        {
          "output_type": "stream",
          "name": "stderr",
          "text": [
            "<ipython-input-35-72f81276ac33>:1: SettingWithCopyWarning: \n",
            "A value is trying to be set on a copy of a slice from a DataFrame.\n",
            "Try using .loc[row_indexer,col_indexer] = value instead\n",
            "\n",
            "See the caveats in the documentation: https://pandas.pydata.org/pandas-docs/stable/user_guide/indexing.html#returning-a-view-versus-a-copy\n",
            "  new_df['tags']= new_df['tags'].apply(stem)\n"
          ]
        }
      ],
      "source": [
        "new_df['tags']= new_df['tags'].apply(stem)"
      ]
    },
    {
      "cell_type": "markdown",
      "source": [
        "### **Vectorization**"
      ],
      "metadata": {
        "id": "tReaNlIKiaP4"
      },
      "id": "tReaNlIKiaP4"
    },
    {
      "cell_type": "code",
      "execution_count": 36,
      "id": "c44af77b-ac1f-41d8-995e-fd245b57260c",
      "metadata": {
        "id": "c44af77b-ac1f-41d8-995e-fd245b57260c"
      },
      "outputs": [],
      "source": [
        "from sklearn.feature_extraction.text import CountVectorizer\n",
        "cv=CountVectorizer(max_features=5000,stop_words='english')"
      ]
    },
    {
      "cell_type": "code",
      "execution_count": 37,
      "id": "14d6d4a5-aa16-4633-9faa-5db8360dc242",
      "metadata": {
        "id": "14d6d4a5-aa16-4633-9faa-5db8360dc242"
      },
      "outputs": [],
      "source": [
        "vectors=cv.fit_transform(new_df['tags']).toarray()"
      ]
    },
    {
      "cell_type": "code",
      "execution_count": 38,
      "id": "5aff111c-2006-460d-9775-fbdda1df41fe",
      "metadata": {
        "colab": {
          "base_uri": "https://localhost:8080/"
        },
        "id": "5aff111c-2006-460d-9775-fbdda1df41fe",
        "outputId": "268b4ea0-1358-46e2-c877-9228c8b5197a"
      },
      "outputs": [
        {
          "output_type": "execute_result",
          "data": {
            "text/plain": [
              "array(['000', '007', '10', ..., 'zone', 'zoo', 'zooeydeschanel'],\n",
              "      dtype=object)"
            ]
          },
          "metadata": {},
          "execution_count": 38
        }
      ],
      "source": [
        " cv.get_feature_names_out()"
      ]
    },
    {
      "cell_type": "markdown",
      "source": [
        "### **Calculating COSINE SIMILARITY**"
      ],
      "metadata": {
        "id": "Vnru32Hnii35"
      },
      "id": "Vnru32Hnii35"
    },
    {
      "cell_type": "code",
      "execution_count": 39,
      "id": "de9d284c-5a14-4657-8827-010ab1f8a808",
      "metadata": {
        "id": "de9d284c-5a14-4657-8827-010ab1f8a808"
      },
      "outputs": [],
      "source": [
        "from sklearn.metrics.pairwise import cosine_similarity"
      ]
    },
    {
      "cell_type": "code",
      "execution_count": 40,
      "id": "322a3931-d26b-4660-8675-3af062156f44",
      "metadata": {
        "id": "322a3931-d26b-4660-8675-3af062156f44"
      },
      "outputs": [],
      "source": [
        "similarity=cosine_similarity(vectors)"
      ]
    },
    {
      "cell_type": "markdown",
      "source": [
        "**Main Function**"
      ],
      "metadata": {
        "id": "r2hW1EIAix2M"
      },
      "id": "r2hW1EIAix2M"
    },
    {
      "cell_type": "code",
      "execution_count": 42,
      "id": "fb8d9ce2-c7ff-45a2-a3bb-68a4fca78a47",
      "metadata": {
        "id": "fb8d9ce2-c7ff-45a2-a3bb-68a4fca78a47"
      },
      "outputs": [],
      "source": [
        "def recommend(movie):\n",
        "    # Find the index of the given movie\n",
        "    movie_index = new_df[new_df['title'] == movie].index[0]\n",
        "\n",
        "    # Retrieve similarity scores for the movie\n",
        "    distances = similarity[movie_index]\n",
        "\n",
        "    # Sort the movies based on similarity scores in descending order, excluding the given movie itself\n",
        "    movies_list = sorted(list(enumerate(distances)), reverse=True, key=lambda x: x[1])[1:6]\n",
        "\n",
        "    # Print the titles of the recommended movies\n",
        "    recommended_movies = []\n",
        "    for i in movies_list:\n",
        "        recommended_movies.append(new_df.iloc[i[0]].title)\n",
        "\n",
        "    return recommended_movies\n"
      ]
    },
    {
      "cell_type": "code",
      "execution_count": 44,
      "id": "df61b213-5e3e-4f15-bf83-afe42e0b439d",
      "metadata": {
        "id": "df61b213-5e3e-4f15-bf83-afe42e0b439d",
        "outputId": "71c0b619-8527-4da3-f504-dc68eee3795f",
        "colab": {
          "base_uri": "https://localhost:8080/"
        }
      },
      "outputs": [
        {
          "output_type": "execute_result",
          "data": {
            "text/plain": [
              "['The Dark Knight', 'Batman', 'Batman', 'The Dark Knight Rises', '10th & Wolf']"
            ]
          },
          "metadata": {},
          "execution_count": 44
        }
      ],
      "source": [
        "recommend('Batman Begins')\n",
        "#recommend('Bang')"
      ]
    },
    {
      "cell_type": "markdown",
      "source": [
        "**Used for Streamlit**"
      ],
      "metadata": {
        "id": "MdsDKEf5i7YI"
      },
      "id": "MdsDKEf5i7YI"
    },
    {
      "cell_type": "code",
      "execution_count": 45,
      "id": "2990365e-625d-405f-a29b-628caeba3bdf",
      "metadata": {
        "id": "2990365e-625d-405f-a29b-628caeba3bdf"
      },
      "outputs": [],
      "source": [
        "import pickle"
      ]
    },
    {
      "cell_type": "code",
      "execution_count": 46,
      "id": "360d30b6-4935-45b8-8b0d-0562e714d28d",
      "metadata": {
        "id": "360d30b6-4935-45b8-8b0d-0562e714d28d"
      },
      "outputs": [],
      "source": [
        "pickle.dump(new_df,open('movies.pkl','wb'))"
      ]
    },
    {
      "cell_type": "code",
      "execution_count": 47,
      "id": "9db221fb-d406-4217-bbbd-828f61ed95e7",
      "metadata": {
        "id": "9db221fb-d406-4217-bbbd-828f61ed95e7"
      },
      "outputs": [],
      "source": [
        "pickle.dump(new_df.to_dict(),open('mpvie_dict.pkl','wb'))"
      ]
    },
    {
      "cell_type": "code",
      "execution_count": 48,
      "id": "47fbfe80-e128-4116-9adc-6827ce6760ec",
      "metadata": {
        "id": "47fbfe80-e128-4116-9adc-6827ce6760ec"
      },
      "outputs": [],
      "source": [
        "pickle.dump(similarity,open('similarity.pkl','wb'))"
      ]
    }
  ],
  "metadata": {
    "colab": {
      "provenance": []
    },
    "kernelspec": {
      "display_name": "Python 3 (ipykernel)",
      "language": "python",
      "name": "python3"
    },
    "language_info": {
      "codemirror_mode": {
        "name": "ipython",
        "version": 3
      },
      "file_extension": ".py",
      "mimetype": "text/x-python",
      "name": "python",
      "nbconvert_exporter": "python",
      "pygments_lexer": "ipython3",
      "version": "3.12.4"
    }
  },
  "nbformat": 4,
  "nbformat_minor": 5
}